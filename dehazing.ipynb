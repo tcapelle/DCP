{
 "cells": [
  {
   "cell_type": "code",
   "execution_count": 47,
   "metadata": {},
   "outputs": [],
   "source": [
    "from new import *\n",
    "from pathlib import Path"
   ]
  },
  {
   "cell_type": "code",
   "execution_count": 48,
   "metadata": {},
   "outputs": [],
   "source": [
    "IMAGES = Path('images/')"
   ]
  },
  {
   "cell_type": "code",
   "execution_count": 49,
   "metadata": {},
   "outputs": [],
   "source": [
    "img = IMAGES/'canon.jpg'"
   ]
  },
  {
   "cell_type": "code",
   "execution_count": 50,
   "metadata": {},
   "outputs": [],
   "source": [
    "img_path = str(img)"
   ]
  },
  {
   "cell_type": "code",
   "execution_count": 51,
   "metadata": {},
   "outputs": [
    {
     "data": {
      "text/plain": [
       "(525, 600, 3)"
      ]
     },
     "execution_count": 51,
     "metadata": {},
     "output_type": "execute_result"
    }
   ],
   "source": [
    "src = cv2.imread(img_path); src.shape"
   ]
  },
  {
   "cell_type": "code",
   "execution_count": 52,
   "metadata": {},
   "outputs": [],
   "source": [
    "I = src.astype('float64')/255\n",
    "src_gray_read = cv2.cvtColor(src, cv2.COLOR_BGR2GRAY)\n",
    "src_gray = np.float64(src_gray_read)/255"
   ]
  },
  {
   "cell_type": "code",
   "execution_count": 53,
   "metadata": {},
   "outputs": [],
   "source": [
    "dark = DarkChannel(I)\n",
    "A = AtmLight(I, dark)\n",
    "et = TransmissionEstimate(I, A)\n",
    "t = Guidedfilter(src_gray, et)\n",
    "J = Recover(I, t, A)"
   ]
  },
  {
   "cell_type": "code",
   "execution_count": 54,
   "metadata": {},
   "outputs": [
    {
     "data": {
      "text/plain": [
       "array([[0.70196078, 0.70196078, 0.70196078, ..., 0.63137255, 0.63137255,\n",
       "        0.63137255],\n",
       "       [0.70196078, 0.70196078, 0.70196078, ..., 0.63137255, 0.63137255,\n",
       "        0.63137255],\n",
       "       [0.69803922, 0.69803922, 0.69803922, ..., 0.63137255, 0.63137255,\n",
       "        0.63137255],\n",
       "       ...,\n",
       "       [0.20784314, 0.20784314, 0.20784314, ..., 0.30980392, 0.30980392,\n",
       "        0.30980392],\n",
       "       [0.20784314, 0.20784314, 0.20784314, ..., 0.30980392, 0.30980392,\n",
       "        0.30980392],\n",
       "       [0.20784314, 0.20784314, 0.20784314, ..., 0.30980392, 0.30980392,\n",
       "        0.30980392]])"
      ]
     },
     "execution_count": 54,
     "metadata": {},
     "output_type": "execute_result"
    }
   ],
   "source": [
    "dark"
   ]
  },
  {
   "cell_type": "code",
   "execution_count": 42,
   "metadata": {},
   "outputs": [],
   "source": [
    "cv2.imshow(\"dark\", dark)"
   ]
  },
  {
   "cell_type": "code",
   "execution_count": 31,
   "metadata": {},
   "outputs": [
    {
     "name": "stdout",
     "output_type": "stream",
     "text": [
      "[[0.71742297 0.70923125 0.7090943 ]]\n"
     ]
    }
   ],
   "source": [
    "#depth = np.exp((-10)*J)\n",
    "print(A)"
   ]
  },
  {
   "cell_type": "code",
   "execution_count": 32,
   "metadata": {},
   "outputs": [],
   "source": [
    "cv2.imshow('I', src)\n",
    "cv2.imshow(\"dark\", dark)\n",
    "cv2.imshow(\"estimated_t\", et)\n",
    "cv2.imshow(\"refined_t\", t)\n",
    "cv2.imshow('dehazed', J)"
   ]
  },
  {
   "cell_type": "code",
   "execution_count": 33,
   "metadata": {},
   "outputs": [
    {
     "data": {
      "text/plain": [
       "True"
      ]
     },
     "execution_count": 33,
     "metadata": {},
     "output_type": "execute_result"
    }
   ],
   "source": [
    "cv2.imwrite(\"dark.jpg\", dark);\n",
    "cv2.imwrite(\"estimated_t.jpg\", et)\n",
    "cv2.imwrite(\"refined_t.jpg\", t)\n",
    "cv2.imwrite('dehazed.jpg', J)"
   ]
  },
  {
   "cell_type": "code",
   "execution_count": null,
   "metadata": {},
   "outputs": [],
   "source": []
  }
 ],
 "metadata": {
  "kernelspec": {
   "display_name": "Python 3",
   "language": "python",
   "name": "python3"
  },
  "language_info": {
   "codemirror_mode": {
    "name": "ipython",
    "version": 3
   },
   "file_extension": ".py",
   "mimetype": "text/x-python",
   "name": "python",
   "nbconvert_exporter": "python",
   "pygments_lexer": "ipython3",
   "version": "3.5.6"
  }
 },
 "nbformat": 4,
 "nbformat_minor": 2
}
